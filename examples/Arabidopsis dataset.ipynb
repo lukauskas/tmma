{
 "cells": [
  {
   "cell_type": "code",
   "execution_count": 1,
   "metadata": {},
   "outputs": [],
   "source": [
    "%config InlineBackend.figure_format = 'retina'\n",
    "%matplotlib inline"
   ]
  },
  {
   "cell_type": "markdown",
   "metadata": {},
   "source": [
    "# Arabidopsis dataset example\n",
    "\n",
    "This notebook follows the example in section 4.2 from  [`edgeR` user guide.](https://bioconductor.org/packages/release/bioc/html/edgeR.html). \n",
    "The data comes from Cumbie et al., 2011, and has been packaged by the `edgeR` team.\n",
    "We have minimally pre-processed the dataset in line with how `edgeR` manual does this so the results are equivalent.\n",
    "\n",
    "See [Data directory](../data/from-edger-user-guide/arabidopsis) for more information.\n",
    "\n",
    "In the end we are trying to reproduce the following results from the `edgeR` guide:\n",
    "\n",
    "```\n",
    "> y <- calcNormFactors(y)\n",
    "> y$samples\n",
    "group lib.size norm.factors\n",
    "mock1 mock 1882391 0.977\n",
    "mock2 mock 1870625 1.023\n",
    "mock3 mock 3227243 0.914\n",
    "hrcc1 hrcc 2101449 1.058\n",
    "hrcc2 hrcc 1243266 1.083\n",
    "hrcc3 hrcc 3494821 0.955\n",
    "```\n",
    "\n",
    "## References\n",
    "\n",
    "* Cumbie, J., Kimbrel, J., Di, Y., Schafer, D., Wilhelm, L., Fox, S., Sullivan, C., Curzon, A., Carrington, J., Mockler, T., Chang, J. (2011). GENE-Counter: A Computational Pipeline for the Analysis of RNA-Seq Data for Gene Expression Differences PLoS ONE 6(10), e25279. https://dx.doi.org/10.1371/journal.pone.0025279"
   ]
  },
  {
   "cell_type": "markdown",
   "metadata": {},
   "source": [
    "First, let's load the data:"
   ]
  },
  {
   "cell_type": "code",
   "execution_count": 4,
   "metadata": {},
   "outputs": [],
   "source": [
    "import pandas as pd\n",
    "\n",
    "arabidopsis = pd.read_csv('../data/from-edger-user-guide/arabidopsis/arab.csv', index_col=0)"
   ]
  },
  {
   "cell_type": "code",
   "execution_count": 6,
   "metadata": {},
   "outputs": [
    {
     "data": {
      "text/html": [
       "<div>\n",
       "<style scoped>\n",
       "    .dataframe tbody tr th:only-of-type {\n",
       "        vertical-align: middle;\n",
       "    }\n",
       "\n",
       "    .dataframe tbody tr th {\n",
       "        vertical-align: top;\n",
       "    }\n",
       "\n",
       "    .dataframe thead th {\n",
       "        text-align: right;\n",
       "    }\n",
       "</style>\n",
       "<table border=\"1\" class=\"dataframe\">\n",
       "  <thead>\n",
       "    <tr style=\"text-align: right;\">\n",
       "      <th></th>\n",
       "      <th>mock1</th>\n",
       "      <th>mock2</th>\n",
       "      <th>mock3</th>\n",
       "      <th>hrcc1</th>\n",
       "      <th>hrcc2</th>\n",
       "      <th>hrcc3</th>\n",
       "    </tr>\n",
       "  </thead>\n",
       "  <tbody>\n",
       "    <tr>\n",
       "      <th>AT1G01010</th>\n",
       "      <td>35</td>\n",
       "      <td>77</td>\n",
       "      <td>40</td>\n",
       "      <td>46</td>\n",
       "      <td>64</td>\n",
       "      <td>60</td>\n",
       "    </tr>\n",
       "    <tr>\n",
       "      <th>AT1G01020</th>\n",
       "      <td>43</td>\n",
       "      <td>45</td>\n",
       "      <td>32</td>\n",
       "      <td>43</td>\n",
       "      <td>39</td>\n",
       "      <td>49</td>\n",
       "    </tr>\n",
       "    <tr>\n",
       "      <th>AT1G01030</th>\n",
       "      <td>16</td>\n",
       "      <td>24</td>\n",
       "      <td>26</td>\n",
       "      <td>27</td>\n",
       "      <td>35</td>\n",
       "      <td>20</td>\n",
       "    </tr>\n",
       "    <tr>\n",
       "      <th>AT1G01040</th>\n",
       "      <td>72</td>\n",
       "      <td>43</td>\n",
       "      <td>64</td>\n",
       "      <td>66</td>\n",
       "      <td>25</td>\n",
       "      <td>90</td>\n",
       "    </tr>\n",
       "    <tr>\n",
       "      <th>AT1G01050</th>\n",
       "      <td>49</td>\n",
       "      <td>78</td>\n",
       "      <td>90</td>\n",
       "      <td>67</td>\n",
       "      <td>45</td>\n",
       "      <td>60</td>\n",
       "    </tr>\n",
       "  </tbody>\n",
       "</table>\n",
       "</div>"
      ],
      "text/plain": [
       "           mock1  mock2  mock3  hrcc1  hrcc2  hrcc3\n",
       "AT1G01010     35     77     40     46     64     60\n",
       "AT1G01020     43     45     32     43     39     49\n",
       "AT1G01030     16     24     26     27     35     20\n",
       "AT1G01040     72     43     64     66     25     90\n",
       "AT1G01050     49     78     90     67     45     60"
      ]
     },
     "execution_count": 6,
     "metadata": {},
     "output_type": "execute_result"
    }
   ],
   "source": [
    "arabidopsis.head()"
   ]
  },
  {
   "cell_type": "markdown",
   "metadata": {},
   "source": [
    "Now we can load `tmma` package, where we have implemented a TMM normalisation procedure, benchmarking it to `edgeR`.\n",
    "It gives consistent results with `edgeR` results up to two decimal points.\n",
    "The variance comes from the issues in floating point calculations and their effects to ranking."
   ]
  },
  {
   "cell_type": "code",
   "execution_count": 8,
   "metadata": {},
   "outputs": [],
   "source": [
    "import tmma"
   ]
  },
  {
   "cell_type": "markdown",
   "metadata": {},
   "source": [
    "To perform TMM normalisationone can simply use the function `tmm_normalisation`:"
   ]
  },
  {
   "cell_type": "code",
   "execution_count": 9,
   "metadata": {},
   "outputs": [
    {
     "name": "stderr",
     "output_type": "stream",
     "text": [
      "/Users/saulius.lukauskas/dev/short-investigations/tmm-py/src/tmma/ma/stats.py:30: RuntimeWarning: divide by zero encountered in log2\n",
      "  log2_normed_obs = np.log2(obs) - np.log2(lib_size_obs)\n",
      "/Users/saulius.lukauskas/dev/short-investigations/tmm-py/src/tmma/ma/stats.py:31: RuntimeWarning: divide by zero encountered in log2\n",
      "  log2_normed_ref = np.log2(ref) - np.log2(lib_size_ref)\n",
      "/Users/saulius.lukauskas/dev/short-investigations/tmm-py/src/tmma/ma/stats.py:34: RuntimeWarning: invalid value encountered in subtract\n",
      "  m = log2_normed_obs - log2_normed_ref\n"
     ]
    },
    {
     "data": {
      "text/plain": [
       "array([0.97716838, 1.02284484, 0.91421356, 1.05844921, 1.08284259,\n",
       "       0.95485587])"
      ]
     },
     "execution_count": 9,
     "metadata": {},
     "output_type": "execute_result"
    }
   ],
   "source": [
    "tmma.tmm_normalisation_factors(arabidopsis)"
   ]
  },
  {
   "cell_type": "markdown",
   "metadata": {},
   "source": [
    "Note that warnings above come from us trying to follow the R implementation (which silences them by default)."
   ]
  },
  {
   "cell_type": "code",
   "execution_count": null,
   "metadata": {},
   "outputs": [],
   "source": []
  }
 ],
 "metadata": {
  "kernelspec": {
   "display_name": "Python 3",
   "language": "python",
   "name": "python3"
  },
  "language_info": {
   "codemirror_mode": {
    "name": "ipython",
    "version": 3
   },
   "file_extension": ".py",
   "mimetype": "text/x-python",
   "name": "python",
   "nbconvert_exporter": "python",
   "pygments_lexer": "ipython3",
   "version": "3.8.5"
  }
 },
 "nbformat": 4,
 "nbformat_minor": 4
}
